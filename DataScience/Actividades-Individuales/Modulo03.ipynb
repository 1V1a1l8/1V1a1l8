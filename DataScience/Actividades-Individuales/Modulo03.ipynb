{
  "nbformat": 4,
  "nbformat_minor": 0,
  "metadata": {
    "colab": {
      "provenance": [],
      "authorship_tag": "ABX9TyM6yLDau1A79mtApP2YtEml",
      "include_colab_link": true
    },
    "kernelspec": {
      "name": "python3",
      "display_name": "Python 3"
    },
    "language_info": {
      "name": "python"
    }
  },
  "cells": [
    {
      "cell_type": "markdown",
      "metadata": {
        "id": "view-in-github",
        "colab_type": "text"
      },
      "source": [
        "<a href=\"https://colab.research.google.com/github/PosgradoMNA/actividades-de-aprendizaje-A01793006/blob/main/Modulo03.ipynb\" target=\"_parent\"><img src=\"https://colab.research.google.com/assets/colab-badge.svg\" alt=\"Open In Colab\"/></a>"
      ]
    },
    {
      "cell_type": "markdown",
      "source": [
        "**--APUNTES--**\n",
        "\n",
        "Conditions & Branching\n",
        "\n",
        "**==**: Podemos usar el operador de igualdad denotado con dos signos iguales para determinar si dos valores son iguales\n",
        "\n",
        "**=!**: Simbolo de igualdad seguido por uno de admiracion es para determinar si dos valores son diferentes\n"
      ],
      "metadata": {
        "id": "x-uMEREQO-M7"
      }
    },
    {
      "cell_type": "code",
      "source": [
        "#Ejercicios del questionario 1\n",
        "1!=0\n",
        "\n",
        "x='a'\n",
        "if(x!='a'):\n",
        " print(\"This is not a.\")\n",
        "else:\n",
        " print(\"This is a.\")"
      ],
      "metadata": {
        "id": "PNPvO9tkOZZj",
        "outputId": "72f3a158-aa51-426a-af24-53fe7bc01d13",
        "colab": {
          "base_uri": "https://localhost:8080/"
        }
      },
      "execution_count": 5,
      "outputs": [
        {
          "output_type": "stream",
          "name": "stdout",
          "text": [
            "This is a.\n"
          ]
        }
      ]
    },
    {
      "cell_type": "markdown",
      "source": [
        "**--LABORATORIO DE OPERADORES COMPARATIVOS--**"
      ],
      "metadata": {
        "id": "yAoyxCohPXQ-"
      }
    },
    {
      "cell_type": "code",
      "source": [
        "#Conseguir True como resultado\n",
        "i=1\n",
        "i!=0 #el simbolo =! indica diferencia entre los valores"
      ],
      "metadata": {
        "id": "QgN6a2UfPEq5",
        "outputId": "e1fed6b4-4faf-4d07-9ca7-cd15090f53cb",
        "colab": {
          "base_uri": "https://localhost:8080/"
        }
      },
      "execution_count": 6,
      "outputs": [
        {
          "output_type": "execute_result",
          "data": {
            "text/plain": [
              "True"
            ]
          },
          "metadata": {},
          "execution_count": 6
        }
      ]
    },
    {
      "cell_type": "code",
      "source": [
        "#Encontrar el valor que imprime la sentencia en if \n",
        "x = 'a'\n",
        "if(x=='a'): #If sera impreso si el valor de x es igual a a\n",
        "    print(\"Esta es a\")\n",
        "else:\n",
        "    print(\"Esta no es a\")"
      ],
      "metadata": {
        "id": "y1yMUM28Pjuc",
        "outputId": "020efd00-0838-42db-a8fc-67a504d4d737",
        "colab": {
          "base_uri": "https://localhost:8080/"
        }
      },
      "execution_count": 8,
      "outputs": [
        {
          "output_type": "stream",
          "name": "stdout",
          "text": [
            "Esta es a\n"
          ]
        }
      ]
    },
    {
      "cell_type": "code",
      "source": [
        "#Encontrar el valor que produce \"True\"\n",
        "y=0\n",
        "x=1\n",
        "x>0 and y<10"
      ],
      "metadata": {
        "id": "ZbSPBjPaQHRO",
        "outputId": "db6ccb89-dc0a-44ae-815a-84e30def8d76",
        "colab": {
          "base_uri": "https://localhost:8080/"
        }
      },
      "execution_count": 9,
      "outputs": [
        {
          "output_type": "execute_result",
          "data": {
            "text/plain": [
              "True"
            ]
          },
          "metadata": {},
          "execution_count": 9
        }
      ]
    },
    {
      "cell_type": "markdown",
      "source": [
        "**--LABORATORIO DE CONDICIONES & OPERADORES--**\n",
        "\n",
        "Simbología\n",
        "\n",
        "igual: ==\n",
        "\n",
        "no igual: !=\n",
        "\n",
        "mayor que: >\n",
        "\n",
        "menos que: <\n",
        "\n",
        "mayor o igual que: >=\n",
        "\n",
        "menor o igual que: <="
      ],
      "metadata": {
        "id": "EC80iGVtQc5K"
      }
    },
    {
      "cell_type": "code",
      "source": [
        "#Ejercicio de Igualdad\n",
        "a = 5\n",
        "a == 6 #Como el valor es diferente retornara False"
      ],
      "metadata": {
        "id": "JO0qzwJXQo2w",
        "outputId": "23833f50-f05a-4ca7-a246-4a670a234323",
        "colab": {
          "base_uri": "https://localhost:8080/"
        }
      },
      "execution_count": 10,
      "outputs": [
        {
          "output_type": "execute_result",
          "data": {
            "text/plain": [
              "False"
            ]
          },
          "metadata": {},
          "execution_count": 10
        }
      ]
    },
    {
      "cell_type": "code",
      "source": [
        "#Ejercicios de Mayor que\n",
        "i = 6\n",
        "print(i > 5)\n",
        "\n",
        "a = 2\n",
        "print(a > 5)"
      ],
      "metadata": {
        "id": "3-Cwln0oQ4kc",
        "outputId": "2f4fded2-1008-45d4-99ab-cf1ecfcdfed1",
        "colab": {
          "base_uri": "https://localhost:8080/"
        }
      },
      "execution_count": 14,
      "outputs": [
        {
          "output_type": "stream",
          "name": "stdout",
          "text": [
            "True\n",
            "False\n"
          ]
        }
      ]
    },
    {
      "cell_type": "code",
      "source": [
        "#Ejercicio de diferente que\n",
        "i = 2\n",
        "print(i != 6)\n",
        "\n",
        "a = 6\n",
        "(a != 6)"
      ],
      "metadata": {
        "id": "B-KO-CLKQ_93",
        "outputId": "2f662d59-8c33-483e-870b-4face9940fb3",
        "colab": {
          "base_uri": "https://localhost:8080/"
        }
      },
      "execution_count": 16,
      "outputs": [
        {
          "output_type": "stream",
          "name": "stdout",
          "text": [
            "True\n"
          ]
        },
        {
          "output_type": "execute_result",
          "data": {
            "text/plain": [
              "False"
            ]
          },
          "metadata": {},
          "execution_count": 16
        }
      ]
    },
    {
      "cell_type": "code",
      "source": [
        "#Los signos igual pueden ser utilizados para comparar cadenas de texto (strings)\n",
        "print(\"ACDC\" == \"Michael Jackson\") #Igual que\n",
        "print(\"ACDC\" != \"Michael Jackson\") #Diferente que"
      ],
      "metadata": {
        "id": "viJpgl1jRdjb",
        "outputId": "c76e59de-727d-4131-b4fa-6fc2c3b9d045",
        "colab": {
          "base_uri": "https://localhost:8080/"
        }
      },
      "execution_count": 17,
      "outputs": [
        {
          "output_type": "stream",
          "name": "stdout",
          "text": [
            "False\n",
            "True\n"
          ]
        }
      ]
    },
    {
      "cell_type": "code",
      "source": [
        "#Comparacion de Letras\n",
        "print('B' > 'A') #Si no se declara un valor se utiliza e valor asignado en ASCII\n",
        "print('BA' > 'AB')"
      ],
      "metadata": {
        "id": "yF_0haz6RyTQ",
        "outputId": "bedf0d55-cca4-4368-d018-40ec71784c0c",
        "colab": {
          "base_uri": "https://localhost:8080/"
        }
      },
      "execution_count": 19,
      "outputs": [
        {
          "output_type": "stream",
          "name": "stdout",
          "text": [
            "True\n",
            "True\n"
          ]
        }
      ]
    },
    {
      "cell_type": "markdown",
      "source": [
        "**--Branching--**\n",
        "\n",
        "La ramificación (Branchinig) nos permite ejecutar diferentes declaraciones para diferentes entradas.\n",
        "\n",
        "**if**: Las líneas de código después de los dos puntos solo se ejecutarán cuando la instrucción if sea verdadera. Las tareas terminarán cuando la línea de código no contenga la condicion"
      ],
      "metadata": {
        "id": "sQHd4x3USJCc"
      }
    },
    {
      "cell_type": "code",
      "source": [
        "# Ejemplo de sentencia if\n",
        "\n",
        "edad = 19\n",
        "#edad = 18\n",
        "\n",
        "#expresión que puede ser verdadera o falsa\n",
        "if edad > 18:\n",
        "    \n",
        "     #Dentro de una condicion, tenemos la expresión que se ejecuta si la condición es verdadera\n",
        "     print(\"puedes entrar\")\n",
        "\n",
        "#Las declaraciones después de la declaración if se ejecutarán independientemente de si la condición es verdadera o falsa\n",
        "print(\"seguir adelante\")"
      ],
      "metadata": {
        "id": "4knXp8DUSfBj",
        "outputId": "cfb8a50c-3050-41af-aae8-1bab4f6937b0",
        "colab": {
          "base_uri": "https://localhost:8080/"
        }
      },
      "execution_count": 20,
      "outputs": [
        {
          "output_type": "stream",
          "name": "stdout",
          "text": [
            "puedes entrar\n",
            "seguir adelante\n"
          ]
        }
      ]
    },
    {
      "cell_type": "code",
      "source": [
        "# Ejemplo de declaración Else\n",
        "\n",
        "edad = 18\n",
        "# edad = 19\n",
        "\n",
        "if edad > 18:\n",
        "     imprimir(\"puedes entrar\")\n",
        "else:\n",
        "     print(\"Ve a ver Meat Loaf\" )\n",
        "    \n",
        "print(\"seguir adelante\")"
      ],
      "metadata": {
        "id": "-kjYbe0qTgAo",
        "outputId": "decbb09b-c5bf-4620-9e81-7d5e492e5ce8",
        "colab": {
          "base_uri": "https://localhost:8080/"
        }
      },
      "execution_count": 21,
      "outputs": [
        {
          "output_type": "stream",
          "name": "stdout",
          "text": [
            "Ve a ver Meat Loaf\n",
            "seguir adelante\n"
          ]
        }
      ]
    },
    {
      "cell_type": "markdown",
      "source": [
        "**Elif**\n",
        "\n",
        "La declaración elif, es la abreviatura de else if, nos permite verificar condiciones adicionales si las declaraciones de condición anteriores son falsas. Si la condición para la instrucción elif es verdadera, se ejecutarán las expresiones alternativas"
      ],
      "metadata": {
        "id": "VGOKof9MUELb"
      }
    },
    {
      "cell_type": "code",
      "source": [
        "# Ejemplo de sentencia Elif\n",
        "age = 18\n",
        "if age > 18: \n",
        "  print(\"puedes entrar\")\n",
        "elif age == 18: \n",
        "  print(\"ve a ver Pink Floyd\")\n",
        "else: \n",
        "  print(\"ve a ver Meat Loaf\" )\n",
        "print(\"seguir adelante\")"
      ],
      "metadata": {
        "id": "q6Ml1i8dTr_-",
        "outputId": "ab631a26-3acc-481c-c3c8-6f5a7f0b6f29",
        "colab": {
          "base_uri": "https://localhost:8080/"
        }
      },
      "execution_count": 24,
      "outputs": [
        {
          "output_type": "stream",
          "name": "stdout",
          "text": [
            "ve a ver Pink Floyd\n",
            "seguir adelante\n"
          ]
        }
      ]
    },
    {
      "cell_type": "code",
      "source": [
        "# Ejemplo cuando ninguna declaracion se cumple\n",
        "album_year = 1983\n",
        "album_year = 1970\n",
        "\n",
        "if album_year > 1980:\n",
        "     print(\"El año del álbum es mayor que 1980\")\n",
        "    \n",
        "print('hacer algo..')"
      ],
      "metadata": {
        "id": "kvpHqyq6UWFt",
        "outputId": "c60ee116-f9a5-46d9-aaf1-71af7b9d50c9",
        "colab": {
          "base_uri": "https://localhost:8080/"
        }
      },
      "execution_count": 25,
      "outputs": [
        {
          "output_type": "stream",
          "name": "stdout",
          "text": [
            "hacer algo..\n"
          ]
        }
      ]
    },
    {
      "cell_type": "markdown",
      "source": [
        "**--OPERADORES LOGICOS--**"
      ],
      "metadata": {
        "id": "Y3ZHoot2UwQ7"
      }
    },
    {
      "cell_type": "code",
      "source": [
        "# Ejemplo de declaración de condición\n",
        "album_year = 1980\n",
        "\n",
        "if(album_year > 1979) and (album_year < 1990): #Las condiciones pueden contener rangos\n",
        "     print (\"El año del álbum fue entre 1980 y 1989\")\n",
        "    \n",
        "print(\"\")\n",
        "print(\"Hacer cosas...\")"
      ],
      "metadata": {
        "id": "6tZklxm_Uznm",
        "outputId": "e24d41d1-d794-4280-920b-f172e709887f",
        "colab": {
          "base_uri": "https://localhost:8080/"
        }
      },
      "execution_count": 26,
      "outputs": [
        {
          "output_type": "stream",
          "name": "stdout",
          "text": [
            "El año del álbum fue entre 1980 y 1989\n",
            "\n",
            "Hacer cosas...\n"
          ]
        }
      ]
    },
    {
      "cell_type": "code",
      "source": [
        "#Ejemplo con if not (valida si la sentencia es falsa)\n",
        "\n",
        "album_year = 1983\n",
        "\n",
        "if not (album_year == 1984):\n",
        "     print (\"El año del álbum no es de 1984\")"
      ],
      "metadata": {
        "id": "lBC99JDsVZP_",
        "outputId": "062dd4c4-bfbd-424f-ab1b-7cc826743393",
        "colab": {
          "base_uri": "https://localhost:8080/"
        }
      },
      "execution_count": 29,
      "outputs": [
        {
          "output_type": "stream",
          "name": "stdout",
          "text": [
            "El año del álbum no es de 1984\n"
          ]
        }
      ]
    },
    {
      "cell_type": "markdown",
      "source": [
        "**--QUIZ DE CONDICIONES--**"
      ],
      "metadata": {
        "id": "qPhvf8WcVIVS"
      }
    },
    {
      "cell_type": "code",
      "source": [
        "#Ejercicio con if\n",
        "rating = 8.5\n",
        "if rating > 8:\n",
        "    print (\"Este album tiene un buen puntaje!\")"
      ],
      "metadata": {
        "id": "dxNW1BO9Vuce",
        "outputId": "fba35f71-2c8e-405f-e742-05bf7727bedf",
        "colab": {
          "base_uri": "https://localhost:8080/"
        }
      },
      "execution_count": 30,
      "outputs": [
        {
          "output_type": "stream",
          "name": "stdout",
          "text": [
            "Este album tiene un buen puntaje!\n"
          ]
        }
      ]
    },
    {
      "cell_type": "code",
      "source": [
        "#Ejercicio con if y else\n",
        "rating = 7\n",
        "if rating > 8:\n",
        "    print (\"Este album tiene un buen puntaje!\")\n",
        "else:\n",
        "  print(\"Este album tiene un puntaje regular\")"
      ],
      "metadata": {
        "id": "i_H4BhFXV20z",
        "outputId": "7d99b8ee-807d-463e-e515-bc39d13b1a48",
        "colab": {
          "base_uri": "https://localhost:8080/"
        }
      },
      "execution_count": 32,
      "outputs": [
        {
          "output_type": "stream",
          "name": "stdout",
          "text": [
            "Este album tiene un puntaje regular\n"
          ]
        }
      ]
    },
    {
      "cell_type": "code",
      "source": [
        "#Ejercicio 3\n",
        "album_year = 1979\n",
        "\n",
        "if album_year < 1980 or album_year == 1991 or album_year == 1993:\n",
        "    print(\"Su álbum salió en el año\", album_year)"
      ],
      "metadata": {
        "id": "5DtDw8UwWQiE",
        "outputId": "b91766a6-0c1b-4742-eaeb-7d6d4caa1104",
        "colab": {
          "base_uri": "https://localhost:8080/"
        }
      },
      "execution_count": 33,
      "outputs": [
        {
          "output_type": "stream",
          "name": "stdout",
          "text": [
            "Su álbum salió en el año 1979\n"
          ]
        }
      ]
    },
    {
      "cell_type": "markdown",
      "source": [
        "**--EJERCICIOS DE LOOPS--**"
      ],
      "metadata": {
        "id": "ktTpvWkZWzNq"
      }
    },
    {
      "cell_type": "code",
      "source": [
        "#Ejercicios del Quiz 1\n",
        "A=[3,4,5]\n",
        "for a in A:\n",
        " print(a)"
      ],
      "metadata": {
        "id": "bn3A2L9CWtLt",
        "outputId": "0f2194ad-f2e8-4bf8-d779-985f4032a9ab",
        "colab": {
          "base_uri": "https://localhost:8080/"
        }
      },
      "execution_count": 35,
      "outputs": [
        {
          "output_type": "stream",
          "name": "stdout",
          "text": [
            "3\n",
            "4\n",
            "5\n"
          ]
        }
      ]
    },
    {
      "cell_type": "code",
      "source": [
        "#Ejercicio del Quiz 1\n",
        "x=3\n",
        "y=1\n",
        "\n",
        "while(y!=x):\n",
        "  print(y)\n",
        "  y=y+1"
      ],
      "metadata": {
        "id": "hYE_rX93Wxib",
        "outputId": "23959294-768b-45c8-c1da-0c1770d6e083",
        "colab": {
          "base_uri": "https://localhost:8080/"
        }
      },
      "execution_count": 37,
      "outputs": [
        {
          "output_type": "stream",
          "name": "stdout",
          "text": [
            "1\n",
            "2\n"
          ]
        }
      ]
    },
    {
      "cell_type": "markdown",
      "source": [
        "**--LABORATORIO DE LOOPS--**"
      ],
      "metadata": {
        "id": "5s5XP548XaGm"
      }
    },
    {
      "cell_type": "code",
      "source": [
        "#Ejercicio 1\n",
        "A=[3,4,5]\n",
        "\n",
        "for i in A:  \n",
        "    print(i) "
      ],
      "metadata": {
        "id": "Bdxx4I_mXZtq",
        "outputId": "0f798bcb-ccac-40a7-e3d1-ccd68db2523d",
        "colab": {
          "base_uri": "https://localhost:8080/"
        }
      },
      "execution_count": 38,
      "outputs": [
        {
          "output_type": "stream",
          "name": "stdout",
          "text": [
            "3\n",
            "4\n",
            "5\n"
          ]
        }
      ]
    },
    {
      "cell_type": "code",
      "source": [
        "#Ejercicio utilizando Whiles\n",
        "x=11\n",
        "y=1\n",
        "while(y != x):\n",
        "    print(y)\n",
        "    y=y+1"
      ],
      "metadata": {
        "id": "eis2HbqIXgdB",
        "outputId": "eb846424-a2c5-4df6-e637-4931a0e5933f",
        "colab": {
          "base_uri": "https://localhost:8080/"
        }
      },
      "execution_count": 39,
      "outputs": [
        {
          "output_type": "stream",
          "name": "stdout",
          "text": [
            "1\n",
            "2\n",
            "3\n",
            "4\n",
            "5\n",
            "6\n",
            "7\n",
            "8\n",
            "9\n",
            "10\n"
          ]
        }
      ]
    }
  ]
}