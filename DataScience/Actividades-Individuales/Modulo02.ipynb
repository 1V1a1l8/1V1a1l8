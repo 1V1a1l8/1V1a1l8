{
  "nbformat": 4,
  "nbformat_minor": 0,
  "metadata": {
    "colab": {
      "provenance": [],
      "authorship_tag": "ABX9TyNeReaZD8/Hg5PnFtAfjMSu",
      "include_colab_link": true
    },
    "kernelspec": {
      "name": "python3",
      "display_name": "Python 3"
    },
    "language_info": {
      "name": "python"
    }
  },
  "cells": [
    {
      "cell_type": "markdown",
      "metadata": {
        "id": "view-in-github",
        "colab_type": "text"
      },
      "source": [
        "<a href=\"https://colab.research.google.com/github/PosgradoMNA/actividades-de-aprendizaje-A01793006/blob/main/Modulo02.ipynb\" target=\"_parent\"><img src=\"https://colab.research.google.com/assets/colab-badge.svg\" alt=\"Open In Colab\"/></a>"
      ]
    },
    {
      "cell_type": "markdown",
      "source": [
        "**APUNTES** Lists & Tuples\n",
        "* **Tuples**: Son una secuencia ordenada, se expresan como elementos separados por comas entre paréntesis, no pueden cambiarse.\n",
        "* **Listas**: Son una secuencia ordenada, se expresan como elementos separados por corchetes entre paréntesis, pueden cambiarse, pueden contener otras listas o tuples. "
      ],
      "metadata": {
        "id": "SAVawAkPf0SA"
      }
    },
    {
      "cell_type": "code",
      "execution_count": 3,
      "metadata": {
        "id": "AaHVhgKlKvPu",
        "colab": {
          "base_uri": "https://localhost:8080/"
        },
        "outputId": "34d6c7de-de50-497b-c7d3-66e37f52548e"
      },
      "outputs": [
        {
          "output_type": "stream",
          "name": "stdout",
          "text": [
            "(0, 1, 2, 3)\n"
          ]
        },
        {
          "output_type": "execute_result",
          "data": {
            "text/plain": [
              "(0, 1)"
            ]
          },
          "metadata": {},
          "execution_count": 3
        }
      ],
      "source": [
        "#Creaciòn de un tuple\n",
        "a = (0,1,2,3)\n",
        "print(a)\n",
        "\n",
        "#Rangos de tuple\n",
        "a[0:2]"
      ]
    },
    {
      "cell_type": "markdown",
      "source": [
        "**Para ver un rango especifico utilizar dos puntos ejem: \n",
        "RANGO INICIAL:RANGO FINAL = VALORES ENTRE DICHOS RANGOS**"
      ],
      "metadata": {
        "id": "pL09_Xxhf5jC"
      }
    },
    {
      "cell_type": "code",
      "source": [
        "#Creación de una Lista\n",
        "b=[\"a\",\"b\",\"c\"]\n",
        "b[0:2]\n",
        "\n",
        "b[0]='HOLA' #Se esta sustituyendo el valor en la lista\n",
        "print(b)    #El resultado muestra la nueva lista"
      ],
      "metadata": {
        "colab": {
          "base_uri": "https://localhost:8080/"
        },
        "id": "tGl4cuPYjj8c",
        "outputId": "1de8768b-a3d6-4629-9a53-89b9c525ad53"
      },
      "execution_count": 10,
      "outputs": [
        {
          "output_type": "stream",
          "name": "stdout",
          "text": [
            "['HOLA', 'b', 'c']\n"
          ]
        }
      ]
    },
    {
      "cell_type": "code",
      "source": [
        "#Ejercicios de 1era preguntas\n",
        "A=(0,1,2,3)\n",
        "print(A[3])\n",
        "print(A[-1])\n",
        "\n",
        "B=[\"a\",\"b\",\"c\"]\n",
        "print(B[1:])     #Si no pones un rango de terminacion, se seleccionara todo lo que esta despues del rango inicial"
      ],
      "metadata": {
        "colab": {
          "base_uri": "https://localhost:8080/"
        },
        "id": "dQWoISP96MZ5",
        "outputId": "4b167ed7-552e-4262-b9d0-4c38bc7f3eca"
      },
      "execution_count": 15,
      "outputs": [
        {
          "output_type": "stream",
          "name": "stdout",
          "text": [
            "3\n",
            "3\n",
            "['b', 'c']\n"
          ]
        }
      ]
    },
    {
      "cell_type": "markdown",
      "source": [
        "**---EJERCICIOS DE TUPLES---**"
      ],
      "metadata": {
        "id": "L6yJ5ph8QGy6"
      }
    },
    {
      "cell_type": "code",
      "source": [
        "#Declaracion de Tuple:\n",
        "Tuple1 = (\"disco\",10,1.2 )\n",
        "print(Tuple1)\n",
        "\n",
        "print(type(Tuple1)) #Corroborar que el tipo de Tuple"
      ],
      "metadata": {
        "colab": {
          "base_uri": "https://localhost:8080/"
        },
        "id": "Z62-B2tMPzn6",
        "outputId": "32930c68-10ef-4398-b6b1-e898dd2a5070"
      },
      "execution_count": 19,
      "outputs": [
        {
          "output_type": "stream",
          "name": "stdout",
          "text": [
            "('disco', 10, 1.2)\n",
            "<class 'tuple'>\n"
          ]
        }
      ]
    },
    {
      "cell_type": "code",
      "source": [
        "#Ejercicio para imprimir los valores individuales del tuple deforma convencional\n",
        "print(Tuple1[0]) #Poner un solo digito en los corchetes imprime solo la posicion indicada\n",
        "print(Tuple1[1])\n",
        "print(Tuple1[2])"
      ],
      "metadata": {
        "colab": {
          "base_uri": "https://localhost:8080/"
        },
        "id": "bkhudyTPRtZI",
        "outputId": "e2f5453e-1b9b-45b0-dcc9-fd50b876f6b1"
      },
      "execution_count": 20,
      "outputs": [
        {
          "output_type": "stream",
          "name": "stdout",
          "text": [
            "disco\n",
            "10\n",
            "1.2\n"
          ]
        }
      ]
    },
    {
      "cell_type": "code",
      "source": [
        "#Ejercicio para imprimir los valores individuales del tuple utilizando la forma inversa con numeros negativa\n",
        "print(Tuple1[-1])\n",
        "print(Tuple1[-2])\n",
        "print(Tuple1[-3])"
      ],
      "metadata": {
        "colab": {
          "base_uri": "https://localhost:8080/"
        },
        "id": "2vYj9attSHvE",
        "outputId": "19ccb25c-29bd-436c-f32c-8879e41b6466"
      },
      "execution_count": 21,
      "outputs": [
        {
          "output_type": "stream",
          "name": "stdout",
          "text": [
            "1.2\n",
            "10\n",
            "disco\n"
          ]
        }
      ]
    },
    {
      "cell_type": "code",
      "source": [
        "#Concatenación de Tuples\n",
        "Tuple2 = Tuple1 + (\"hard rock\", 10)\n",
        "print(Tuple2)"
      ],
      "metadata": {
        "colab": {
          "base_uri": "https://localhost:8080/"
        },
        "id": "JPGasNzsS1gi",
        "outputId": "0817a548-9a65-4a0f-8914-f5f25675f853"
      },
      "execution_count": 22,
      "outputs": [
        {
          "output_type": "stream",
          "name": "stdout",
          "text": [
            "('disco', 10, 1.2, 'hard rock', 10)\n"
          ]
        }
      ]
    },
    {
      "cell_type": "code",
      "source": [
        "#Ejercicios con Tuples 2\n",
        "print(Tuple2[0:3]) #Imprimir rangos de datos del Tuple\n",
        "print(Tuple2[3:5])\n",
        "print(len(Tuple2)) #Imprimir la longitud del Tuple"
      ],
      "metadata": {
        "colab": {
          "base_uri": "https://localhost:8080/"
        },
        "id": "a6H0HhMsVFqB",
        "outputId": "9bbfc2c7-3626-4998-fc36-d9748060169c"
      },
      "execution_count": 26,
      "outputs": [
        {
          "output_type": "stream",
          "name": "stdout",
          "text": [
            "('disco', 10, 1.2)\n",
            "('hard rock', 10)\n",
            "5\n"
          ]
        }
      ]
    },
    {
      "cell_type": "code",
      "source": [
        "#Ejercicio de Sorted: Nos ayuda a ordenar de menor a mayor los datos dentro del Tuple\n",
        "Valores = (0, 9, 6, 5, 10, 8, 9, 6, 2)\n",
        "ValoresOrdenados = sorted(Valores)\n",
        "print(ValoresOrdenados)"
      ],
      "metadata": {
        "colab": {
          "base_uri": "https://localhost:8080/"
        },
        "id": "6_eKKUE9Vxgb",
        "outputId": "e3781531-f5d5-42a1-9a8e-6837815d3203"
      },
      "execution_count": 29,
      "outputs": [
        {
          "output_type": "stream",
          "name": "stdout",
          "text": [
            "[0, 2, 5, 6, 6, 8, 9, 9, 10]\n"
          ]
        }
      ]
    },
    {
      "cell_type": "code",
      "source": [
        "#Ejercicios de Nested: Una tupla puede contener otra tupla así como otros tipos de datos complejos. Este proceso se llama Nested(anidamiento).\n",
        "NestedT =(1, 2, (\"pop\", \"rock\") ,(3,4),(\"disco\",(1,2))) #Declaracion de la Tupla\n",
        "print(NestedT)"
      ],
      "metadata": {
        "colab": {
          "base_uri": "https://localhost:8080/"
        },
        "id": "sKD3zC8iWh1A",
        "outputId": "bc4bd7cb-2a1d-4322-d23b-d0179813869f"
      },
      "execution_count": 33,
      "outputs": [
        {
          "output_type": "stream",
          "name": "stdout",
          "text": [
            "(1, 2, ('pop', 'rock'), (3, 4), ('disco', (1, 2)))\n"
          ]
        }
      ]
    },
    {
      "cell_type": "code",
      "source": [
        "#Impresión de Tupla utilizando posiciones especificas\n",
        "print(\"Posición 0 del Tuple:\", NestedT[0]) \n",
        "print(\"Posición 1 del Tuple:\", NestedT[1])\n",
        "print(\"Posición 2 del Tuple:\", NestedT[2]) #Se imprime la tupla que esta en la posición 2\n",
        "print(\"Posición 3 del Tuple:\", NestedT[3])\n",
        "print(\"Posición 4 del Tuple:\", NestedT[4])"
      ],
      "metadata": {
        "colab": {
          "base_uri": "https://localhost:8080/"
        },
        "id": "tD8k3_kIZmHL",
        "outputId": "c8647fa2-43b2-4529-8836-83a6e598413a"
      },
      "execution_count": 34,
      "outputs": [
        {
          "output_type": "stream",
          "name": "stdout",
          "text": [
            "Posición 0 del Tuple: 1\n",
            "Posición 1 del Tuple: 2\n",
            "Posición 2 del Tuple: ('pop', 'rock')\n",
            "Posición 3 del Tuple: (3, 4)\n",
            "Posición 4 del Tuple: ('disco', (1, 2))\n"
          ]
        }
      ]
    },
    {
      "cell_type": "code",
      "source": [
        "#Impresión de Tupla utilizando posiciónes especificas dentro del rango de un Tuple\n",
        "print(\"Rango 2, 0 del Tuple:\",   NestedT[2][0]) #Se imprimen los rangos\n",
        "print(\"Rango 2, 1 del Tuple:\",   NestedT[2][1])\n",
        "print(\"Rango 3, 0 del Tuple:\",   NestedT[3][0])\n",
        "print(\"Rango 3, 1 del Tuple:\",   NestedT[3][1])\n",
        "print(\"Rango 4, 0 del Tuple:\",   NestedT[4][0])\n",
        "print(\"Rango 4, 1 del Tuple:\",   NestedT[4][1])"
      ],
      "metadata": {
        "colab": {
          "base_uri": "https://localhost:8080/"
        },
        "id": "qdMj84f6Z8te",
        "outputId": "50e763a8-4af0-45e5-938e-f3021ba1fdfa"
      },
      "execution_count": 36,
      "outputs": [
        {
          "output_type": "stream",
          "name": "stdout",
          "text": [
            "Rango 2, 0 del Tuple: pop\n",
            "Rango 2, 1 del Tuple: rock\n",
            "Rango 3, 0 del Tuple: 3\n",
            "Rango 3, 1 del Tuple: 4\n",
            "Rango 4, 0 del Tuple: disco\n",
            "Rango 4, 1 del Tuple: (1, 2)\n"
          ]
        }
      ]
    },
    {
      "cell_type": "code",
      "source": [
        "#Impresion de elementos especificos en las Tuplas\n",
        "print(NestedT[2][1][0]) #Imprime el primer elemento en la segunda tupla anidada\n",
        "print(NestedT[2][1][1]) #Imprime el segundo elemento en la segunda tupla anidada\n",
        "\n",
        "print(NestedT[4][1][0]) #Imprime el primer elemento en la segunda tupla anidada\n",
        "print(NestedT[4][1][1]) #Imprime el segundo elemento en la segunda tupla anidada"
      ],
      "metadata": {
        "colab": {
          "base_uri": "https://localhost:8080/"
        },
        "id": "VssASl3satLc",
        "outputId": "0340eb14-3b1f-4e47-a8a9-0e6ebabfa8ce"
      },
      "execution_count": 40,
      "outputs": [
        {
          "output_type": "stream",
          "name": "stdout",
          "text": [
            "r\n",
            "o\n",
            "1\n",
            "2\n"
          ]
        }
      ]
    },
    {
      "cell_type": "markdown",
      "source": [
        "**--QUIZ DEL MODULO DE TUPLES--**"
      ],
      "metadata": {
        "id": "I81Gj8b_cQ5Z"
      }
    },
    {
      "cell_type": "code",
      "source": [
        "#Creación de Tuple\n",
        "Tuple = (\"pop\", \"rock\", \"soul\", \"hard rock\", \"soft rock\", \\\n",
        "                \"R&B\", \"progressive rock\", \"disco\") \n",
        "print(Tuple)\n",
        "print('Longitud:',len(Tuple)) #Sirve para conocer la longitud del Tuple"
      ],
      "metadata": {
        "colab": {
          "base_uri": "https://localhost:8080/"
        },
        "id": "jrgJ0xbycW34",
        "outputId": "85dad96e-dcaf-4ba7-bab6-f042a5f203a7"
      },
      "execution_count": 43,
      "outputs": [
        {
          "output_type": "stream",
          "name": "stdout",
          "text": [
            "('pop', 'rock', 'soul', 'hard rock', 'soft rock', 'R&B', 'progressive rock', 'disco')\n",
            "Longitud: 8\n"
          ]
        }
      ]
    },
    {
      "cell_type": "code",
      "source": [
        "#Ejercicios de Tuple\n",
        "print(Tuple[3:6]) #Obtiene los valores del rango 3 a 6\n",
        "print(Tuple.index(\"disco\")) #Index encuentra la posicion de lo que se esta buscando\n"
      ],
      "metadata": {
        "colab": {
          "base_uri": "https://localhost:8080/"
        },
        "id": "d3NFsvQac3My",
        "outputId": "7a184288-abd8-4e50-c8e2-139fd77b6580"
      },
      "execution_count": 44,
      "outputs": [
        {
          "output_type": "stream",
          "name": "stdout",
          "text": [
            "('hard rock', 'soft rock', 'R&B')\n",
            "7\n"
          ]
        }
      ]
    },
    {
      "cell_type": "code",
      "source": [
        "#Genera una lista ordenada a partir del Tuple\n",
        "C_tuple = (-5, 1, -3)\n",
        "C_list = sorted(C_tuple)\n",
        "print(C_tuple)\n",
        "print(C_list) #Tupla Ordenada"
      ],
      "metadata": {
        "colab": {
          "base_uri": "https://localhost:8080/"
        },
        "id": "xfp7gl8IgmuP",
        "outputId": "958211f5-dc3e-4a26-e00e-83d790a6cad6"
      },
      "execution_count": 45,
      "outputs": [
        {
          "output_type": "stream",
          "name": "stdout",
          "text": [
            "(-5, 1, -3)\n",
            "[-5, -3, 1]\n"
          ]
        }
      ]
    },
    {
      "cell_type": "markdown",
      "source": [
        "**EJERCICIOS DE LISTA**\n"
      ],
      "metadata": {
        "id": "SXFpja4ahFGB"
      }
    },
    {
      "cell_type": "code",
      "source": [
        "#Creación de Lista\n",
        "L = [\"Michael Jackson\", 10.1, 1982]\n",
        "print(L)"
      ],
      "metadata": {
        "colab": {
          "base_uri": "https://localhost:8080/"
        },
        "id": "eYott06ehYW6",
        "outputId": "a3b3b902-e61a-4c3b-87cd-b9f217949425"
      },
      "execution_count": 46,
      "outputs": [
        {
          "output_type": "stream",
          "name": "stdout",
          "text": [
            "['Michael Jackson', 10.1, 1982]\n"
          ]
        }
      ]
    },
    {
      "cell_type": "code",
      "source": [
        "#Ejercicio utilizando Index positivos y negativas\n",
        "print('Mismo elemento usando indexación negativa y positiva:\\n Postivo:',L[0],'\\n Negativo:' , L[-3]  )\n",
        "print('Mismo elemento usando indexación negativa y positiva:\\n Postivo:',L[1],'\\n Negativo:' , L[-2]  )\n",
        "print('Mismo elemento usando indexación negativa y positiva:\\n Postivo:',L[2],'\\n Negativo:' , L[-1]  )"
      ],
      "metadata": {
        "colab": {
          "base_uri": "https://localhost:8080/"
        },
        "id": "LbDAvdcPhjv8",
        "outputId": "0e3ec8e1-0ac0-4a74-ba67-f39142b7fd3b"
      },
      "execution_count": 47,
      "outputs": [
        {
          "output_type": "stream",
          "name": "stdout",
          "text": [
            "Mismo elemento usando indexación negativa y positiva:\n",
            " Postivo: Michael Jackson \n",
            " Negativo: Michael Jackson\n",
            "Mismo elemento usando indexación negativa y positiva:\n",
            " Postivo: 10.1 \n",
            " Negativo: 10.1\n",
            "Mismo elemento usando indexación negativa y positiva:\n",
            " Postivo: 1982 \n",
            " Negativo: 1982\n"
          ]
        }
      ]
    },
    {
      "cell_type": "code",
      "source": [
        "#Listas que contienen Tuples y otras Listas\n",
        "L = [\"Michael Jackson\", 10.1,1982,\"MJ\",1]\n",
        "print(L)\n",
        "print('Imprension con rango:',L[3:5])#Listas utilizando rangos"
      ],
      "metadata": {
        "colab": {
          "base_uri": "https://localhost:8080/"
        },
        "id": "DP8R6S3GiFBB",
        "outputId": "fbcbad41-ec50-4519-90a6-5b6403676bf1"
      },
      "execution_count": 51,
      "outputs": [
        {
          "output_type": "stream",
          "name": "stdout",
          "text": [
            "['Michael Jackson', 10.1, 1982, 'MJ', 1]\n",
            "Imprension con rango: ['MJ', 1]\n"
          ]
        }
      ]
    },
    {
      "cell_type": "code",
      "source": [
        "#Funcion \"extend\" es utilizada para añadir valores a la lista. Esto se añadé al final.\n",
        "L = [ \"Michael Jackson\", 10.2]\n",
        "print(L)\n",
        "L.extend(['pop', 10])\n",
        "print('Lista despues del extend',L)"
      ],
      "metadata": {
        "colab": {
          "base_uri": "https://localhost:8080/"
        },
        "id": "qGX8d2mmieoT",
        "outputId": "6b0535b0-5e70-464d-b332-380cab2bbf8e"
      },
      "execution_count": 54,
      "outputs": [
        {
          "output_type": "stream",
          "name": "stdout",
          "text": [
            "['Michael Jackson', 10.2]\n",
            "Lista despues del extend ['Michael Jackson', 10.2, 'pop', 10]\n"
          ]
        }
      ]
    },
    {
      "cell_type": "code",
      "source": [
        "#Funcion \"append\" es utilizada para añadir elementos a la lista\n",
        "L = [ \"Michael Jackson\", 10.2]\n",
        "print(L)\n",
        "L.append(['pop', 10])\n",
        "print('Lista despues del append',L)"
      ],
      "metadata": {
        "id": "m7-CdftY1E7q",
        "outputId": "620fe8bd-306b-43bd-c0cb-268ab407c806",
        "colab": {
          "base_uri": "https://localhost:8080/"
        }
      },
      "execution_count": 55,
      "outputs": [
        {
          "output_type": "stream",
          "name": "stdout",
          "text": [
            "['Michael Jackson', 10.2]\n",
            "Lista despues del append ['Michael Jackson', 10.2, ['pop', 10]]\n"
          ]
        }
      ]
    },
    {
      "cell_type": "markdown",
      "source": [
        "**Ya sea append o extend cada vez que aplicamos un método, la lista cambiará**"
      ],
      "metadata": {
        "id": "bCZWCM7G1t-S"
      }
    },
    {
      "cell_type": "code",
      "source": [
        "#Como las listas son mutables, podemos cambiarlas cuando queramos\n",
        "A = [\"disco\", 10, 1.2]\n",
        "print('Lista Original:', A)\n",
        "A[0] = 'hard rock' #Se esta cambiando el valor que se encuentra en la posición 0\n",
        "print('Lista Modificada:', A)"
      ],
      "metadata": {
        "id": "bQTRbpWy1tfj",
        "outputId": "d1674b72-7b96-4f5e-952a-680a85924154",
        "colab": {
          "base_uri": "https://localhost:8080/"
        }
      },
      "execution_count": 57,
      "outputs": [
        {
          "output_type": "stream",
          "name": "stdout",
          "text": [
            "Lista Original: ['disco', 10, 1.2]\n",
            "Lista Modificada: ['hard rock', 10, 1.2]\n"
          ]
        }
      ]
    },
    {
      "cell_type": "code",
      "source": [
        "#Tambien se pueden eliminar elementos de las listas\n",
        "print('Lista Original:', A)\n",
        "del(A[0]) #del es un comando reservado para eliminar elementos, en este caso se estan eliminado los valores en la posicion 0\n",
        "print('Lista Modificada:', A)"
      ],
      "metadata": {
        "id": "YBJRt_lI2s0-",
        "outputId": "4a329ad5-b7af-4d41-98da-e9ca52383b29",
        "colab": {
          "base_uri": "https://localhost:8080/"
        }
      },
      "execution_count": 58,
      "outputs": [
        {
          "output_type": "stream",
          "name": "stdout",
          "text": [
            "Lista Original: ['hard rock', 10, 1.2]\n",
            "Lista Modificada: [10, 1.2]\n"
          ]
        }
      ]
    },
    {
      "cell_type": "code",
      "source": [
        "#Podemos convertir una cadena en una lista usando split. El método split traduce cada grupo de caracteres separados por un espacio en un elemento de una lista.\n",
        "'Hola Valeria'.split()"
      ],
      "metadata": {
        "id": "uGYvTz8D3PDG",
        "outputId": "879109f4-f8e3-4667-8891-00114a6d1c9f",
        "colab": {
          "base_uri": "https://localhost:8080/"
        }
      },
      "execution_count": 59,
      "outputs": [
        {
          "output_type": "execute_result",
          "data": {
            "text/plain": [
              "['Hola', 'Valeria']"
            ]
          },
          "metadata": {},
          "execution_count": 59
        }
      ]
    },
    {
      "cell_type": "code",
      "source": [
        "#Split tambien se utiliza para separar cadenas con un carácter específico (delimitador), utilizamos el carácter que nos gustaría dividir en el argumento de la funcion.\n",
        "'A,B,C,D'.split(',')"
      ],
      "metadata": {
        "id": "5DZfln4-3jsl",
        "outputId": "9b988129-c711-40f6-ef11-9e2a0478dc39",
        "colab": {
          "base_uri": "https://localhost:8080/"
        }
      },
      "execution_count": 60,
      "outputs": [
        {
          "output_type": "execute_result",
          "data": {
            "text/plain": [
              "['A', 'B', 'C', 'D']"
            ]
          },
          "metadata": {},
          "execution_count": 60
        }
      ]
    },
    {
      "cell_type": "code",
      "source": [
        "#Las listas tambien pueden copiarse \n",
        "A = [\"hard rock\", 10, 1.2]\n",
        "B = A #La variable B utiliza como referencia el valor de A\n",
        "print('A:', A)\n",
        "print('B:', B)"
      ],
      "metadata": {
        "id": "DgF2stpw4Qgd",
        "outputId": "76f421b4-949e-418c-8b4b-c30964da9346",
        "colab": {
          "base_uri": "https://localhost:8080/"
        }
      },
      "execution_count": 61,
      "outputs": [
        {
          "output_type": "stream",
          "name": "stdout",
          "text": [
            "A: ['hard rock', 10, 1.2]\n",
            "B: ['hard rock', 10, 1.2]\n"
          ]
        }
      ]
    },
    {
      "cell_type": "code",
      "source": [
        "#Como B esta usando de referencia a A, está al ser modificada tambien cambia el valor de B\n",
        "print('B[0]:', B[0])\n",
        "A[0] = \"banana\"\n",
        "print('B[0]:', B[0])"
      ],
      "metadata": {
        "id": "uTNSV9j34ouS",
        "outputId": "7c069114-a55d-4313-bc47-2264d30e99b8",
        "colab": {
          "base_uri": "https://localhost:8080/"
        }
      },
      "execution_count": 62,
      "outputs": [
        {
          "output_type": "stream",
          "name": "stdout",
          "text": [
            "B[0]: hard rock\n",
            "B[0]: banana\n"
          ]
        }
      ]
    },
    {
      "cell_type": "code",
      "source": [
        "#Para no usar referencias y copiar (almacenar) los valores de una lista se utiliza la funcion [:]\n",
        "B = A[:]\n",
        "B"
      ],
      "metadata": {
        "id": "RGsnE7qD5Dy_",
        "outputId": "aa43241d-6fc7-477c-8396-2bd559656c2c",
        "colab": {
          "base_uri": "https://localhost:8080/"
        }
      },
      "execution_count": 63,
      "outputs": [
        {
          "output_type": "execute_result",
          "data": {
            "text/plain": [
              "['banana', 10, 1.2]"
            ]
          },
          "metadata": {},
          "execution_count": 63
        }
      ]
    },
    {
      "cell_type": "code",
      "source": [
        "#Al clonar los valores de una lista, al ser modificada la original esta no afectara la copia\n",
        "print('A[0]:', A[0])\n",
        "A[0] = \"hard rock\"  #cambio en la variable A\n",
        "print('B[0]:', B[0])"
      ],
      "metadata": {
        "id": "sf1EG0ec5ljw",
        "outputId": "448e10a3-a8b4-4b03-da8a-df1da01ec843",
        "colab": {
          "base_uri": "https://localhost:8080/"
        }
      },
      "execution_count": 65,
      "outputs": [
        {
          "output_type": "stream",
          "name": "stdout",
          "text": [
            "A[0]: hard rock\n",
            "B[0]: banana\n"
          ]
        }
      ]
    },
    {
      "cell_type": "markdown",
      "source": [
        "**--QUIZ DE LISTAS--**"
      ],
      "metadata": {
        "id": "3UR22Xvk5_b0"
      }
    },
    {
      "cell_type": "code",
      "source": [
        "#Ejercicios del Quiz\n",
        "a_list = [1, 'hello', [1,2,3],True] #Creación de lista\n",
        "print(a_list[1]) #Encontrar el primer valor de la lista\n",
        "print(a_list[1:4]) #Imprimir valores en ese rango"
      ],
      "metadata": {
        "id": "Jb8BxP3h5-ge",
        "outputId": "7fe50fa0-dc18-41c0-c70e-b4b17284b9e3",
        "colab": {
          "base_uri": "https://localhost:8080/"
        }
      },
      "execution_count": 66,
      "outputs": [
        {
          "output_type": "stream",
          "name": "stdout",
          "text": [
            "hello\n",
            "['hello', [1, 2, 3], True]\n"
          ]
        }
      ]
    },
    {
      "cell_type": "code",
      "source": [
        "#Concatenación de Listas\n",
        "A = [1, 'a']\n",
        "B = [2, 1, 'd']\n",
        "A + B"
      ],
      "metadata": {
        "id": "b3iSlLEj7Q1-",
        "outputId": "bd2d8594-38fa-43de-c348-63f60496e182",
        "colab": {
          "base_uri": "https://localhost:8080/"
        }
      },
      "execution_count": 67,
      "outputs": [
        {
          "output_type": "execute_result",
          "data": {
            "text/plain": [
              "[1, 'a', 2, 1, 'd']"
            ]
          },
          "metadata": {},
          "execution_count": 67
        }
      ]
    },
    {
      "cell_type": "markdown",
      "source": [
        "**--EJERCICIOS DE SETS--**"
      ],
      "metadata": {
        "id": "d30Wk3H19TqW"
      }
    },
    {
      "cell_type": "code",
      "source": [
        "#Codigo para saber la pregunta 1\n",
        "S={'A','B','C'}\n",
        "U={'A','Z','C'}\n",
        "print(U.union(S))\n",
        "\n",
        "#Codigo para saber la pregunta 2\n",
        "S={'A','B','C'}\n",
        "U={'A','Z','C'}"
      ],
      "metadata": {
        "id": "GUNY-nhz9P4-",
        "outputId": "7b7632ba-94ac-45fe-8310-7eb53a4959d3",
        "colab": {
          "base_uri": "https://localhost:8080/"
        }
      },
      "execution_count": 71,
      "outputs": [
        {
          "output_type": "stream",
          "name": "stdout",
          "text": [
            "{'Z', 'C', 'B', 'A'}\n"
          ]
        }
      ]
    },
    {
      "cell_type": "code",
      "source": [
        "#La función SET se utiliza para hacer cast de una lista a un Set {conjunto}\n",
        "set(['A','B','C','A','B','C'])"
      ],
      "metadata": {
        "id": "1mbHHAlk-Um5",
        "outputId": "fbe02fe9-f977-4408-bba7-8a24777a5dd0",
        "colab": {
          "base_uri": "https://localhost:8080/"
        }
      },
      "execution_count": 72,
      "outputs": [
        {
          "output_type": "execute_result",
          "data": {
            "text/plain": [
              "{'A', 'B', 'C'}"
            ]
          },
          "metadata": {},
          "execution_count": 72
        }
      ]
    },
    {
      "cell_type": "code",
      "source": [
        "#La funcion ADD sirve para añadir elementos al conjunto\n",
        "S={'A','B','C'}\n",
        "S.add('D') \n",
        "print(S)"
      ],
      "metadata": {
        "id": "CKAkqOas_Xem",
        "outputId": "a90c19c0-ee60-4627-9b37-bae6dc8c4114",
        "colab": {
          "base_uri": "https://localhost:8080/"
        }
      },
      "execution_count": 73,
      "outputs": [
        {
          "output_type": "stream",
          "name": "stdout",
          "text": [
            "{'B', 'A', 'D', 'C'}\n"
          ]
        }
      ]
    },
    {
      "cell_type": "code",
      "source": [
        "#El simbolo amperson & sirve para encontrar las intersecciones entre dos conjuntos\n",
        "A={1,2,3,4,5}\n",
        "B={1,3,9, 12}\n",
        "A&B"
      ],
      "metadata": {
        "id": "Zjz4xnFy_mre",
        "outputId": "08e91f9d-0464-4785-f4c7-e5f2fb0a142d",
        "colab": {
          "base_uri": "https://localhost:8080/"
        }
      },
      "execution_count": 74,
      "outputs": [
        {
          "output_type": "execute_result",
          "data": {
            "text/plain": [
              "{1, 3}"
            ]
          },
          "metadata": {},
          "execution_count": 74
        }
      ]
    },
    {
      "cell_type": "markdown",
      "source": [
        "**--LABORATORIO DE SETS--**\n",
        "\n",
        "Un conjunto es una colección única de objetos en Python. Son declarados utilizando {}. No contiene elementos duplicados, estos son eliminados:"
      ],
      "metadata": {
        "id": "9VWFMR3w_2Kh"
      }
    },
    {
      "cell_type": "code",
      "source": [
        "#Creación de Conjunto\n",
        "set1 = {\"pop\", \"rock\", \"soul\", \"hard rock\", \"rock\", \"R&B\", \"rock\", \"disco\"}\n",
        "set1"
      ],
      "metadata": {
        "id": "EGySK3PN_1Vg",
        "outputId": "d4224a3f-c749-4d77-d1f4-5eac670e588c",
        "colab": {
          "base_uri": "https://localhost:8080/"
        }
      },
      "execution_count": 75,
      "outputs": [
        {
          "output_type": "execute_result",
          "data": {
            "text/plain": [
              "{'R&B', 'disco', 'hard rock', 'pop', 'rock', 'soul'}"
            ]
          },
          "metadata": {},
          "execution_count": 75
        }
      ]
    },
    {
      "cell_type": "code",
      "source": [
        "#Conversion de una Listas a un Set's\n",
        "album_list = [\"Michael Jackson\",\"Thriller\",1982,\"00:42:19\",\"Pop, Rock, R&B\",46.0,65,\"30-Nov-82\",None,10.0]\n",
        "album_set = set(album_list)             \n",
        "print(album_set)\n",
        "\n",
        "music_genres = set([\"pop\", \"pop\", \"rock\", \"folk rock\", \"hard rock\", \"soul\",\"progressive rock\", \"soft rock\", \"R&B\", \"disco\"])\n",
        "print(music_genres)"
      ],
      "metadata": {
        "id": "LvPgObshAo5P",
        "outputId": "cf23204b-613f-4252-ba49-778e1a0d34ab",
        "colab": {
          "base_uri": "https://localhost:8080/"
        }
      },
      "execution_count": 78,
      "outputs": [
        {
          "output_type": "stream",
          "name": "stdout",
          "text": [
            "{None, 65, 'Michael Jackson', 10.0, 46.0, '30-Nov-82', 1982, 'Thriller', 'Pop, Rock, R&B', '00:42:19'}\n",
            "{'hard rock', 'disco', 'pop', 'folk rock', 'soft rock', 'rock', 'R&B', 'progressive rock', 'soul'}\n"
          ]
        }
      ]
    },
    {
      "cell_type": "code",
      "source": [
        "#OPERACIONES CON SET\n",
        "A = set([\"Thriller\", \"Back in Black\", \"AC/DC\"]) #Declaracion del conjunto\n",
        "print('Original',A)\n",
        "\n",
        "A.add(\"NSYNC\")  #Si se intenta añadir dos veces el mismo Valor este solo será añadido una vez\n",
        "print('Valor Añadido',A)\n",
        "\n",
        "A.remove(\"NSYNC\") #Remove se utiliza para eliminar valores dentro de un conjunto\n",
        "print('Valor Elimnado',A)\n",
        "\n",
        "print(\"AC/DC\" in A) # In es utilizado para validar que un valor se encuentre dentro del conjunto\n"
      ],
      "metadata": {
        "id": "FkwfrdveBAYy",
        "outputId": "e1dadebf-6f15-42c9-cc7f-dd379c02d8e0",
        "colab": {
          "base_uri": "https://localhost:8080/"
        }
      },
      "execution_count": 80,
      "outputs": [
        {
          "output_type": "stream",
          "name": "stdout",
          "text": [
            "Original {'AC/DC', 'Back in Black', 'Thriller'}\n",
            "Valor Añadido {'AC/DC', 'Back in Black', 'Thriller', 'NSYNC'}\n",
            "Valor Elimnado {'AC/DC', 'Back in Black', 'Thriller'}\n",
            "True\n"
          ]
        }
      ]
    },
    {
      "cell_type": "code",
      "source": [
        "#OPERADORES LOGICOS CON SET\n",
        "album_set1 = set([\"Thriller\", 'AC/DC', 'Back in Black']) #Declaracion de conjuntos 1 y 2\n",
        "album_set2 = set([ \"AC/DC\", \"Back in Black\", \"The Dark Side of the Moon\"])\n",
        "print(album_set1, album_set2) \n",
        "\n",
        "interseccion = album_set1 & album_set2 #Simbolo & es utilizado para encontrar los valores comunes\n",
        "print('Interseccion',interseccion)\n",
        "album_set1.intersection(album_set2)  #intersection tambien es utilizado para encontrar los valores comunes\n",
        "\n",
        "print('Elementos en el set 1, que no estan en el 2',album_set1.difference(album_set2))  #DIFFERENCE : esta funcion es utilizada para encontrar las diferencias entre ambos conjuntos\n",
        "print('Elementos en el set 2, que no estan en el 1',album_set2.difference(album_set1))\n",
        "\n",
        "print('Unión de conjuntos',album_set1.union(album_set2)) #Contiene TODOS los valores de ambos conjuntos"
      ],
      "metadata": {
        "id": "tI65MndLCHzN",
        "outputId": "9e305073-0cf1-4767-aa5a-29b2207d2867",
        "colab": {
          "base_uri": "https://localhost:8080/"
        }
      },
      "execution_count": 91,
      "outputs": [
        {
          "output_type": "stream",
          "name": "stdout",
          "text": [
            "{'AC/DC', 'Back in Black', 'Thriller'} {'AC/DC', 'Back in Black', 'The Dark Side of the Moon'}\n",
            "Interseccion {'AC/DC', 'Back in Black'}\n",
            "Elementos en el set 1, que no estan en el 2 {'Thriller'}\n",
            "Elementos en el set 2, que no estan en el 1 {'The Dark Side of the Moon'}\n",
            "Unión de conjuntos {'Back in Black', 'Thriller', 'AC/DC', 'The Dark Side of the Moon'}\n"
          ]
        }
      ]
    },
    {
      "cell_type": "code",
      "source": [
        "#EJERCICIOS DE CONJUNTOS\n",
        "print('Superset',set(album_set1).issuperset(album_set2))  #Comprueba si es un super set \n",
        "print('Subset',set(album_set2).issubset(album_set1)) #Comprueba si es un sub set \n",
        "\n",
        "print('Subset',set({\"Back in Black\", \"AC/DC\"}).issubset(album_set1))\n",
        "print('Superset',album_set1.issuperset({\"Back in Black\", \"AC/DC\"}))"
      ],
      "metadata": {
        "id": "iEofc59rEQma",
        "outputId": "f2852e87-3ad9-4ca3-ec68-3b10ab53a4ea",
        "colab": {
          "base_uri": "https://localhost:8080/"
        }
      },
      "execution_count": 92,
      "outputs": [
        {
          "output_type": "stream",
          "name": "stdout",
          "text": [
            "Superset False\n",
            "Subset False\n",
            "Subset True\n",
            "Superset True\n"
          ]
        }
      ]
    },
    {
      "cell_type": "markdown",
      "source": [
        "**--QUIZ DE SETS--**"
      ],
      "metadata": {
        "id": "r4C25N53FMi-"
      }
    },
    {
      "cell_type": "code",
      "source": [
        "set(['rap','house','electronic music', 'rap']) #Declaracion del conjunto, siempre se utilizan paretensis antes de poner la lista\n",
        "\n",
        "#Suma de una lista con un conjunto\n",
        "A = [1, 2, 2, 1]  \n",
        "B = set([1, 2, 2, 1])\n",
        "print(\"La suma de A es:\", sum(A))\n",
        "print(\"La suma de B es:\", sum(B)) #La suma de B es menor ya que se eliminan los duplicados"
      ],
      "metadata": {
        "id": "dx4BgZJgFMTX",
        "outputId": "c85059e6-0b88-44a1-bf4c-0ee92a3ff9e8",
        "colab": {
          "base_uri": "https://localhost:8080/"
        }
      },
      "execution_count": 93,
      "outputs": [
        {
          "output_type": "stream",
          "name": "stdout",
          "text": [
            "La suma de A es: 6\n",
            "La suma de B es: 3\n"
          ]
        }
      ]
    },
    {
      "cell_type": "code",
      "source": [
        "#Creacion de un nuevo set a partir de la Union de A y B\n",
        "album_set1 = set([\"Thriller\", 'AC/DC', 'Back in Black'])\n",
        "album_set2 = set([ \"AC/DC\", \"Back in Black\", \"The Dark Side of the Moon\"])\n",
        "\n",
        "album_set3 = album_set1.union(album_set2)\n",
        "print(album_set3)\n",
        "\n",
        "print('El album 1 es un subconjunto de album 3:',album_set1.issubset(album_set3))"
      ],
      "metadata": {
        "id": "_D-_a4hFGGeU",
        "outputId": "e11a87b7-67fd-4f88-8c00-4aa3b20de37e",
        "colab": {
          "base_uri": "https://localhost:8080/"
        }
      },
      "execution_count": 96,
      "outputs": [
        {
          "output_type": "stream",
          "name": "stdout",
          "text": [
            "{'Back in Black', 'Thriller', 'AC/DC', 'The Dark Side of the Moon'}\n",
            "El album 1 es un subconjunto de album 3: True\n"
          ]
        }
      ]
    },
    {
      "cell_type": "markdown",
      "source": [
        "**--EJERCICIOS DE DICCIONARIOS--**\n",
        "\n",
        "Para crear un diccionario, usamos corchetes y dos puntos {Clave:Valor}. Las claves son los primeros elementos; deben ser inmutables y únicos. Cada clave va seguida de un valor separado por dos puntos. Los valores pueden ser inmutables y duplicados. Cada par de clave y valor está separado por una coma.\n"
      ],
      "metadata": {
        "id": "afRsKj8YG3PG"
      }
    },
    {
      "cell_type": "code",
      "source": [
        "D = {'a':0,'b':1,'c':2}\n",
        "D['b']"
      ],
      "metadata": {
        "id": "tgkKdOHdIG4y",
        "outputId": "a79ecefc-212a-4886-bd39-f7cec43c897a",
        "colab": {
          "base_uri": "https://localhost:8080/"
        }
      },
      "execution_count": 98,
      "outputs": [
        {
          "output_type": "execute_result",
          "data": {
            "text/plain": [
              "1"
            ]
          },
          "metadata": {},
          "execution_count": 98
        }
      ]
    },
    {
      "cell_type": "markdown",
      "source": [
        "**--LABORATORIO DE DICCIONARIOS--**"
      ],
      "metadata": {
        "id": "uG2DyOabIrN3"
      }
    },
    {
      "cell_type": "code",
      "source": [
        "#EJERCICO DE DICCIONARIOS\n",
        "D={'a':0,'b':1,'c':2} #Declaracion de Diccionario\n",
        "print('Valor de a',D['a']) #Toma el valor de la clave en los corchetes\n",
        "\n",
        "print('Claves',D.keys()) # Claves : Retorna las claves de la lista\n",
        "print('Valores',D.values()) # Values : Retorna los valores de la lista\n"
      ],
      "metadata": {
        "id": "oaPkDA7uIvPc",
        "outputId": "4fb3b113-ff49-4a69-ce73-f80914c187b7",
        "colab": {
          "base_uri": "https://localhost:8080/"
        }
      },
      "execution_count": 99,
      "outputs": [
        {
          "output_type": "stream",
          "name": "stdout",
          "text": [
            "Valor de a 0\n",
            "Claves dict_keys(['a', 'b', 'c'])\n",
            "Valores dict_values([0, 1, 2])\n"
          ]
        }
      ]
    },
    {
      "cell_type": "markdown",
      "source": [
        "**--QUIZ DE DICCIONARIOS--**"
      ],
      "metadata": {
        "id": "X6kQvaNaKd4O"
      }
    },
    {
      "cell_type": "code",
      "source": [
        "#Ejercicio 1\n",
        "soundtrack_dic = {\"The Bodyguard\":\"1992\", \"Saturday Night Fever\":\"1977\"} #Definicion de Diccionario\n",
        "soundtrack_dic "
      ],
      "metadata": {
        "id": "IO1XyQLrKo2l",
        "outputId": "08af3e82-0ea4-4060-e631-c422646f9a29",
        "colab": {
          "base_uri": "https://localhost:8080/"
        }
      },
      "execution_count": 100,
      "outputs": [
        {
          "output_type": "execute_result",
          "data": {
            "text/plain": [
              "{'The Bodyguard': '1992', 'Saturday Night Fever': '1977'}"
            ]
          },
          "metadata": {},
          "execution_count": 100
        }
      ]
    },
    {
      "cell_type": "code",
      "source": [
        "print('Claves',soundtrack_dic.keys()) #Entontrar las claves\n",
        "print('Valores',soundtrack_dic.keys()) #Encontrar los valores"
      ],
      "metadata": {
        "id": "5R4tFePkKvJF",
        "outputId": "0fa9935d-32f7-4f89-e39b-228deede9747",
        "colab": {
          "base_uri": "https://localhost:8080/"
        }
      },
      "execution_count": 101,
      "outputs": [
        {
          "output_type": "stream",
          "name": "stdout",
          "text": [
            "Claves dict_keys(['The Bodyguard', 'Saturday Night Fever'])\n",
            "Valores dict_keys(['The Bodyguard', 'Saturday Night Fever'])\n"
          ]
        }
      ]
    },
    {
      "cell_type": "code",
      "source": [
        "#Ejercicio 2\n",
        "album_sales_dict = {\"The Bodyguard\":50, \"Back in Black\":50, \"Thriller\":65} #Definicion de Diccionario\n",
        "print(album_sales_dict[\"Thriller\"]) #Encuentra el valor de Thriller\n",
        "print('Llaves',album_sales_dict.keys())\n",
        "print('Valores',album_sales_dict.values())\n"
      ],
      "metadata": {
        "id": "83Gy-d20LHgA",
        "outputId": "fd3de7df-98fb-447b-de49-a22b448fea42",
        "colab": {
          "base_uri": "https://localhost:8080/"
        }
      },
      "execution_count": 102,
      "outputs": [
        {
          "output_type": "stream",
          "name": "stdout",
          "text": [
            "65\n",
            "Llaves dict_keys(['The Bodyguard', 'Back in Black', 'Thriller'])\n",
            "Valores dict_values([50, 50, 65])\n"
          ]
        }
      ]
    }
  ]
}