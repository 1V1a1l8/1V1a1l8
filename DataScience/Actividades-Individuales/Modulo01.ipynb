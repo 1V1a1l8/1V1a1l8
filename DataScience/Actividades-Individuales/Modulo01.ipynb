{
  "nbformat": 4,
  "nbformat_minor": 0,
  "metadata": {
    "colab": {
      "provenance": [],
      "collapsed_sections": [],
      "authorship_tag": "ABX9TyOjwfztaAG8F8HLcnUXE3UA",
      "include_colab_link": true
    },
    "kernelspec": {
      "name": "python3",
      "display_name": "Python 3"
    },
    "language_info": {
      "name": "python"
    }
  },
  "cells": [
    {
      "cell_type": "markdown",
      "metadata": {
        "id": "view-in-github",
        "colab_type": "text"
      },
      "source": [
        "<a href=\"https://colab.research.google.com/github/PosgradoMNA/actividades-de-aprendizaje-A01793006/blob/main/Modulo01.ipynb\" target=\"_parent\"><img src=\"https://colab.research.google.com/assets/colab-badge.svg\" alt=\"Open In Colab\"/></a>"
      ]
    },
    {
      "cell_type": "markdown",
      "source": [
        "**Apuntes**: El poder y la flexibilidad con miles de bibliotecas lo hicieron el lenguaje elegido por científicos de datos, ingenieros, analistas e investigadores de IA en empresas líderes y nuevas por igual. Python es esencial para cualquier persona que trabaje con datos.\n"
      ],
      "metadata": {
        "id": "-s8Q0DN359ZG"
      }
    },
    {
      "cell_type": "code",
      "source": [
        "print (\"Hello Python 101\")"
      ],
      "metadata": {
        "colab": {
          "base_uri": "https://localhost:8080/"
        },
        "id": "RWP0YtGZ6Eod",
        "outputId": "88ca88dc-9a53-4c28-83fe-89de92420486"
      },
      "execution_count": null,
      "outputs": [
        {
          "output_type": "stream",
          "name": "stdout",
          "text": [
            "Hello Python 101\n"
          ]
        }
      ]
    },
    {
      "cell_type": "markdown",
      "source": [
        "* **Argummento**: Valor en el paréntesis\n",
        "* **Comentario**: Ayuda a saber a otros que estas haciendo (# cuando ejecutas el código es ignorado)\n",
        "* Un **error sintáctico** es cuando Python no entiende el código.\n",
        "* Un **error semántico** es cuando la lógica es incorrecta. (no hay mensaje de error)\n",
        "\n"
      ],
      "metadata": {
        "id": "zuMA9pzYAQZC"
      }
    },
    {
      "cell_type": "code",
      "source": [
        "print(\"Hello\\nWorld!\")"
      ],
      "metadata": {
        "colab": {
          "base_uri": "https://localhost:8080/"
        },
        "id": "ravgTEzRBjPw",
        "outputId": "6b41206d-5629-4397-c477-19fe42c9c397"
      },
      "execution_count": null,
      "outputs": [
        {
          "output_type": "stream",
          "name": "stdout",
          "text": [
            "Hello\n",
            "World!\n"
          ]
        }
      ]
    },
    {
      "cell_type": "markdown",
      "source": [
        "* **\\n** : funciona commo un salto de renglón\n",
        "* **#*** : cualquier cosa puesta despues de # no sera ejecutado"
      ],
      "metadata": {
        "id": "6haXMd4lBm4f"
      }
    },
    {
      "cell_type": "code",
      "source": [
        "type(\"1.1\")"
      ],
      "metadata": {
        "colab": {
          "base_uri": "https://localhost:8080/"
        },
        "id": "_Roe1UP7Yehr",
        "outputId": "13791927-abd2-48ef-a933-771cfb4401a6"
      },
      "execution_count": null,
      "outputs": [
        {
          "output_type": "execute_result",
          "data": {
            "text/plain": [
              "str"
            ]
          },
          "metadata": {},
          "execution_count": 27
        }
      ]
    },
    {
      "cell_type": "markdown",
      "source": [
        "* **type**: te ayuda a saber el tipo de dato"
      ],
      "metadata": {
        "id": "h0xYtUBnYkX0"
      }
    },
    {
      "cell_type": "code",
      "source": [
        "print(bool(int(0)))"
      ],
      "metadata": {
        "colab": {
          "base_uri": "https://localhost:8080/"
        },
        "id": "pCMntsNFBmcP",
        "outputId": "3ac6d036-326f-426e-b51c-593c00b44e24"
      },
      "execution_count": null,
      "outputs": [
        {
          "output_type": "stream",
          "name": "stdout",
          "text": [
            "False\n"
          ]
        }
      ]
    },
    {
      "cell_type": "markdown",
      "source": [
        "* **bool(1)** : sirve para cambiar el tipo de dato a boolean"
      ],
      "metadata": {
        "id": "097yK1mscBIP"
      }
    },
    {
      "cell_type": "code",
      "source": [
        "int(9.80) #Solo toma el primer digito (convierte a entero)\n",
        "float(83) #Solo el añade .00 (convierte a flotante)"
      ],
      "metadata": {
        "colab": {
          "base_uri": "https://localhost:8080/"
        },
        "id": "ztfKk9UPZd5s",
        "outputId": "d2638c84-1251-4387-e982-f1fd57da85c9"
      },
      "execution_count": null,
      "outputs": [
        {
          "output_type": "execute_result",
          "data": {
            "text/plain": [
              "83.0"
            ]
          },
          "metadata": {},
          "execution_count": 28
        }
      ]
    },
    {
      "cell_type": "markdown",
      "source": [
        "* **cast** te ayuda a cambiar el tipo de dato"
      ],
      "metadata": {
        "id": "hZZW_-W4aSyv"
      }
    },
    {
      "cell_type": "code",
      "source": [
        "import sys\n",
        "print(sys.version)\n",
        "\n",
        "#Este fragmento sirve para saber que version de Python se esta ejecudando"
      ],
      "metadata": {
        "colab": {
          "base_uri": "https://localhost:8080/"
        },
        "id": "6YvfJImZagKQ",
        "outputId": "50104094-e8d1-4523-8059-2e5f51d948eb"
      },
      "execution_count": null,
      "outputs": [
        {
          "output_type": "stream",
          "name": "stdout",
          "text": [
            "3.7.14 (default, Sep  8 2022, 00:06:44) \n",
            "[GCC 7.5.0]\n"
          ]
        }
      ]
    },
    {
      "cell_type": "code",
      "source": [
        "11      #los numeros enteros son integer\n",
        "5.14    #los numeros decimales son flotantes\n",
        "\"Hola\"  #los textos, palabras o letras son string"
      ],
      "metadata": {
        "colab": {
          "base_uri": "https://localhost:8080/",
          "height": 35
        },
        "id": "bJwcSWk169lE",
        "outputId": "410e8223-189d-4dcb-9db3-b661d75b92b0"
      },
      "execution_count": null,
      "outputs": [
        {
          "output_type": "execute_result",
          "data": {
            "text/plain": [
              "'Hola'"
            ],
            "application/vnd.google.colaboratory.intrinsic+json": {
              "type": "string"
            }
          },
          "metadata": {},
          "execution_count": 32
        }
      ]
    },
    {
      "cell_type": "code",
      "source": [
        "print(type(11)) \n",
        "print(type(2.5))\n",
        "print(type(\"d\"))\n",
        "\n",
        "#Type te ayuda saber el tipo de dato"
      ],
      "metadata": {
        "colab": {
          "base_uri": "https://localhost:8080/"
        },
        "id": "hzLB8NQp7eLa",
        "outputId": "fade90be-21f6-4a58-c299-55bdca94a8dc"
      },
      "execution_count": null,
      "outputs": [
        {
          "output_type": "stream",
          "name": "stdout",
          "text": [
            "<class 'int'>\n",
            "<class 'float'>\n",
            "<class 'str'>\n"
          ]
        }
      ]
    },
    {
      "cell_type": "code",
      "source": [
        "print(type(-5.0))\n",
        "print(type(5.0))\n",
        "print(type(0.5))\n",
        "print(type(0.97))\n",
        "print(sys.float_info)"
      ],
      "metadata": {
        "colab": {
          "base_uri": "https://localhost:8080/"
        },
        "id": "cdLqXOOy-hrY",
        "outputId": "75bad3ba-3702-4863-b38e-b184272be4fb"
      },
      "execution_count": null,
      "outputs": [
        {
          "output_type": "stream",
          "name": "stdout",
          "text": [
            "<class 'float'>\n",
            "<class 'float'>\n",
            "<class 'float'>\n",
            "<class 'float'>\n",
            "sys.float_info(max=1.7976931348623157e+308, max_exp=1024, max_10_exp=308, min=2.2250738585072014e-308, min_exp=-1021, min_10_exp=-307, dig=15, mant_dig=53, epsilon=2.220446049250313e-16, radix=2, rounds=1)\n"
          ]
        }
      ]
    },
    {
      "cell_type": "markdown",
      "source": [
        "* **int**: pueden ser numeros positivos, negativos o ceros\n",
        "\n"
      ],
      "metadata": {
        "id": "YIRqQjfQ8SE5"
      }
    },
    {
      "cell_type": "code",
      "source": [
        "print(float(5))\n",
        "print(type(float(5)))\n",
        "\n",
        "#añadir el tipo de dato antes del valor que se desea convertir genera un cast, en este ejemplo se estan cambiando int a float\n",
        "\n",
        "print(\"\\n\")\n",
        "print(int(7.5))\n",
        "\n",
        "#poner int antes cambia transforma el float a int, esto podria generar perdida de datos"
      ],
      "metadata": {
        "colab": {
          "base_uri": "https://localhost:8080/"
        },
        "id": "T-xwE-Ll_AGS",
        "outputId": "9fc66768-7bc4-4e5f-ac7c-ad33100707b0"
      },
      "execution_count": null,
      "outputs": [
        {
          "output_type": "stream",
          "name": "stdout",
          "text": [
            "5.0\n",
            "<class 'float'>\n",
            "\n",
            "\n",
            "7\n"
          ]
        }
      ]
    },
    {
      "cell_type": "markdown",
      "source": [
        "Los ejemplos de arriba son para hacer cambios de tipo en numero.\n",
        "* **usar int antes de un flotante** hace que el flotante se convierta en integrer\n",
        "* **usar float antes de un integer** hace que el integer se convierta en flotante"
      ],
      "metadata": {
        "id": "2nQgz_1w8SMw"
      }
    },
    {
      "cell_type": "code",
      "source": [
        "print(int('18'))\n",
        "print(float('1.2'))\n",
        "\n",
        "#print(int('1 or 2 people'))\n",
        "#print(int(\"5.5\"))"
      ],
      "metadata": {
        "colab": {
          "base_uri": "https://localhost:8080/"
        },
        "id": "cEsw_vfxBFl2",
        "outputId": "b1efbfaa-4c20-4943-ea7a-fda132f1f545"
      },
      "execution_count": null,
      "outputs": [
        {
          "output_type": "stream",
          "name": "stdout",
          "text": [
            "18\n",
            "1.2\n"
          ]
        }
      ]
    },
    {
      "cell_type": "markdown",
      "source": [
        "Los ejemplos de arriba son para cambiar convertir valores string a flotante o entero\n",
        "\n",
        "**Para que la conversion funcioné los valores deben hacer match perfecto con el tipo de dato al que se quiere cambiar, como sucedió con las últimas dos lineas**"
      ],
      "metadata": {
        "id": "7hoSP2RdB-Sd"
      }
    },
    {
      "cell_type": "code",
      "source": [
        "print(str(13))\n",
        "print(str(1.23))"
      ],
      "metadata": {
        "colab": {
          "base_uri": "https://localhost:8080/"
        },
        "id": "Umqq1mG5Cn8t",
        "outputId": "52903e50-3535-483a-f2b4-4aec90f39d5b"
      },
      "execution_count": null,
      "outputs": [
        {
          "output_type": "stream",
          "name": "stdout",
          "text": [
            "13\n",
            "1.23\n"
          ]
        }
      ]
    },
    {
      "cell_type": "markdown",
      "source": [
        "De forma inversa, tambien los float e integeres pueden hacerse transformarse a strings."
      ],
      "metadata": {
        "id": "13LlnrKPDkDi"
      }
    },
    {
      "cell_type": "code",
      "source": [
        "print(type(True))    #Los valores True y False son reservados a Type booleano\n",
        "print(type(False))   \n",
        "print(int(True))     #El valor de True es 1, por lo que al hacer cast a integer se imprime el numero 1\n",
        "print(bool(1))       \n",
        "print(bool(0))       #El valor de False es 0, por lo que se imprime el numero 0\n",
        "print(float(False))  #El valor de False puede ser convertido a tipo flotante por lo que se convierte en 0.0"
      ],
      "metadata": {
        "colab": {
          "base_uri": "https://localhost:8080/"
        },
        "id": "luDNrlIHEnRk",
        "outputId": "a1202176-fbe6-486e-a8c7-7fc4e5f4cd64"
      },
      "execution_count": null,
      "outputs": [
        {
          "output_type": "stream",
          "name": "stdout",
          "text": [
            "<class 'bool'>\n",
            "<class 'bool'>\n",
            "1\n",
            "True\n",
            "False\n",
            "0.0\n"
          ]
        }
      ]
    },
    {
      "cell_type": "markdown",
      "source": [
        "Ejercicios para explorar el tipo de **valor booleano**."
      ],
      "metadata": {
        "id": "w-1JzhFpHrHd"
      }
    },
    {
      "cell_type": "code",
      "source": [
        "print(type(6/2))   #Al utilizarse un solo / el tipo de dato es flotante\n",
        "print(type(6//2))   #Al utilizarse dos // el tipo de dato es entero\n"
      ],
      "metadata": {
        "colab": {
          "base_uri": "https://localhost:8080/"
        },
        "id": "igYTHfVeG15m",
        "outputId": "d44d6409-32cb-4bc0-ac6d-95194bf31a40"
      },
      "execution_count": null,
      "outputs": [
        {
          "output_type": "stream",
          "name": "stdout",
          "text": [
            "<class 'float'>\n",
            "<class 'int'>\n"
          ]
        }
      ]
    },
    {
      "cell_type": "markdown",
      "source": [
        "Ejercicios para explorar las funciones de **type**."
      ],
      "metadata": {
        "id": "Q7cxwSeaH5BJ"
      }
    },
    {
      "cell_type": "code",
      "source": [
        "print(93 + 40 + 66 + 44) #Operador de suma\n",
        "print(978-842)           #Operador de resta\n",
        "print(8*8)               #Operador de multiplicación\n",
        "print(90/9)              #Operador de división con resultado float\n",
        "print(90//9)             #Operador de división con resultado integer\n",
        "print(31/6)         \n",
        "print(31//6)             #El // es utilizado para obtener resultado integer"
      ],
      "metadata": {
        "colab": {
          "base_uri": "https://localhost:8080/"
        },
        "id": "JjuTwNB1JjCY",
        "outputId": "9490cbd7-95bc-4bf1-81fc-814a1556fa4f"
      },
      "execution_count": null,
      "outputs": [
        {
          "output_type": "stream",
          "name": "stdout",
          "text": [
            "243\n",
            "136\n",
            "64\n",
            "10.0\n",
            "10\n",
            "5.166666666666667\n",
            "5\n"
          ]
        }
      ]
    },
    {
      "cell_type": "markdown",
      "source": [
        "Los ejercicios de arriba ejemplifican los operadores básicos.\n",
        "El uso de la doble diagonal **//** da como resulado el valor integer de la division independiente del resulado."
      ],
      "metadata": {
        "id": "tJEBIoZoKv4O"
      }
    },
    {
      "cell_type": "code",
      "source": [
        "print(30 + 2 * 60)\n",
        "print((30 + 2) * 60)"
      ],
      "metadata": {
        "colab": {
          "base_uri": "https://localhost:8080/"
        },
        "id": "XDC7xW_gJ3jg",
        "outputId": "39ba988f-d743-4816-99ca-506d7437c7d2"
      },
      "execution_count": null,
      "outputs": [
        {
          "output_type": "stream",
          "name": "stdout",
          "text": [
            "150\n",
            "1920\n"
          ]
        }
      ]
    },
    {
      "cell_type": "markdown",
      "source": [
        "Los ejercicios de arriba ejemplifican expresiones matemáticas"
      ],
      "metadata": {
        "id": "xOjVx2jLM2pj"
      }
    },
    {
      "cell_type": "code",
      "source": [
        "x = 33 + 68 + 56 + 54 #Expresiones pueden ser utilizadas para almacenar el resultao en una vabiable\n",
        "print (x)\n",
        "\n",
        "y = x / 75 #Otra variable puede ser utilizda para calcular el valor de una nueva\n",
        "print (y)\n",
        "\n",
        "x = x/75  #Si se almacena un nuevo valor en la variable, el valor anterior es sustituido\n",
        "print (x)"
      ],
      "metadata": {
        "colab": {
          "base_uri": "https://localhost:8080/"
        },
        "id": "PMZmkwtAM_of",
        "outputId": "7d0a2c14-d75b-4475-e518-21045cec6f38"
      },
      "execution_count": null,
      "outputs": [
        {
          "output_type": "stream",
          "name": "stdout",
          "text": [
            "211\n",
            "2.8133333333333335\n",
            "2.8133333333333335\n"
          ]
        }
      ]
    },
    {
      "cell_type": "markdown",
      "source": [
        "Los ejercicios de arriba ejemplifican el uso de variables."
      ],
      "metadata": {
        "id": "FGkN1l-JQQkM"
      }
    },
    {
      "cell_type": "code",
      "source": [
        "Minutos_Totales = 33 + 45 + 53 #Como se mencion, el resultado de una expresion puede ser una variable\n",
        "print(Minutos_Totales)\n",
        "\n",
        "Horas_Totales = Minutos_Totales / 60  \n",
        "print(Horas_Totales)\n",
        "\n",
        "Horas_Totales = (33 + 45 + 53) / 60  #Las expresiones pueden ser utilizadas directamente sin tener que ser \n",
        "print(Horas_Totales)                 #almacenadas en una variable previamente y el resultado será el mismo"
      ],
      "metadata": {
        "colab": {
          "base_uri": "https://localhost:8080/"
        },
        "id": "m_9V_2maQwHP",
        "outputId": "3888fe0f-9470-44b5-a4d9-a3d510bbd527"
      },
      "execution_count": null,
      "outputs": [
        {
          "output_type": "stream",
          "name": "stdout",
          "text": [
            "131\n",
            "2.183333333333333\n",
            "2.183333333333333\n"
          ]
        }
      ]
    },
    {
      "cell_type": "markdown",
      "source": [
        "**NOTA: Una buena practica es ponerle nombres útiles a las variables**"
      ],
      "metadata": {
        "id": "NPoQmsDlSOg3"
      }
    },
    {
      "cell_type": "code",
      "source": [
        "#Inserto mi ejercicio final del Modulo 1.\n",
        "x = (4 + 5 * 7)\n",
        "print(x)\n",
        "\n",
        "y = (4 + 5) * 7\n",
        "print(y)\n",
        "\n",
        "z = x + y\n",
        "print (z)"
      ],
      "metadata": {
        "colab": {
          "base_uri": "https://localhost:8080/"
        },
        "id": "kZJxFl50SbVX",
        "outputId": "57856f65-a1f8-4145-eac5-e168009c77bd"
      },
      "execution_count": null,
      "outputs": [
        {
          "output_type": "stream",
          "name": "stdout",
          "text": [
            "39\n",
            "63\n",
            "102\n"
          ]
        }
      ]
    },
    {
      "cell_type": "markdown",
      "source": [
        "**Tambien pueden ser utilizadas únicamente variables para encontrar un nuevo valor**"
      ],
      "metadata": {
        "id": "8eWDkdwbS56J"
      }
    },
    {
      "cell_type": "code",
      "source": [
        "3 + 2 * 2"
      ],
      "metadata": {
        "colab": {
          "base_uri": "https://localhost:8080/"
        },
        "id": "GFuw6FlNJOgB",
        "outputId": "a719a94a-e23b-4816-d479-9b5094c1a213"
      },
      "execution_count": 7,
      "outputs": [
        {
          "output_type": "execute_result",
          "data": {
            "text/plain": [
              "7"
            ]
          },
          "metadata": {},
          "execution_count": 7
        }
      ]
    },
    {
      "cell_type": "code",
      "source": [
        "name = 'Lizz'\n",
        "print(name[0:2])"
      ],
      "metadata": {
        "colab": {
          "base_uri": "https://localhost:8080/"
        },
        "id": "MYJbHQ4YJqyu",
        "outputId": "07ff19fc-7aa0-449a-a8ea-3ba85767c6fa"
      },
      "execution_count": 2,
      "outputs": [
        {
          "output_type": "stream",
          "name": "stdout",
          "text": [
            "Li\n"
          ]
        }
      ]
    },
    {
      "cell_type": "code",
      "source": [
        "var = '01234567'\n",
        "print(var[::2])"
      ],
      "metadata": {
        "colab": {
          "base_uri": "https://localhost:8080/"
        },
        "id": "Rmh1SxaoJ4QV",
        "outputId": "bda3e463-0d67-45d0-fbb2-fae845cb5cca"
      },
      "execution_count": 3,
      "outputs": [
        {
          "output_type": "stream",
          "name": "stdout",
          "text": [
            "0246\n"
          ]
        }
      ]
    },
    {
      "cell_type": "code",
      "source": [
        "'1'+'2'"
      ],
      "metadata": {
        "colab": {
          "base_uri": "https://localhost:8080/",
          "height": 35
        },
        "id": "xeRifdIKKIdc",
        "outputId": "d14a1529-8223-489d-8b14-0c8e0961c5d0"
      },
      "execution_count": 4,
      "outputs": [
        {
          "output_type": "execute_result",
          "data": {
            "text/plain": [
              "'12'"
            ],
            "application/vnd.google.colaboratory.intrinsic+json": {
              "type": "string"
            }
          },
          "metadata": {},
          "execution_count": 4
        }
      ]
    },
    {
      "cell_type": "code",
      "source": [
        "myvar = 'hello Valeria'\n",
        "myvar.upper()"
      ],
      "metadata": {
        "colab": {
          "base_uri": "https://localhost:8080/",
          "height": 35
        },
        "id": "0fjGKPjxKOPs",
        "outputId": "d2c36080-a67b-439e-e78b-2b61fc3fab46"
      },
      "execution_count": 6,
      "outputs": [
        {
          "output_type": "execute_result",
          "data": {
            "text/plain": [
              "'HELLO VALERIA'"
            ],
            "application/vnd.google.colaboratory.intrinsic+json": {
              "type": "string"
            }
          },
          "metadata": {},
          "execution_count": 6
        }
      ]
    },
    {
      "cell_type": "markdown",
      "source": [
        "Códigos de preguntas finales"
      ],
      "metadata": {
        "id": "brspNoZQKjId"
      }
    }
  ]
}